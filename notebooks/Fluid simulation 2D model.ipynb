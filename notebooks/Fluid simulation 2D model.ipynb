{
 "cells": [
  {
   "cell_type": "code",
   "execution_count": null,
   "metadata": {},
   "outputs": [],
   "source": [
    "import numpy as np\n",
    "import dapy.inference as da\n",
    "from dapy.models.fluidsim2d import FluidSim2DModel\n",
    "import matplotlib.pyplot as plt\n",
    "from mpl_toolkits.mplot3d import Axes3D\n",
    "import seaborn as sns\n",
    "%matplotlib inline\n",
    "sns.set_style('white')"
   ]
  },
  {
   "cell_type": "markdown",
   "metadata": {},
   "source": [
    "## Model\n"
   ]
  },
  {
   "cell_type": "code",
   "execution_count": null,
   "metadata": {},
   "outputs": [],
   "source": [
    "n_steps = 100\n",
    "seed = 20171027\n",
    "rng = np.random.RandomState(seed)\n",
    "grid_shape = (128, 128)\n",
    "init_velocity_mean = np.zeros((2,) + grid_shape)\n",
    "u0, u1 = np.meshgrid(\n",
    "    np.linspace(-5, 5, grid_shape[0]), \n",
    "    np.linspace(-5, 5, grid_shape[1]), indexing='ij')\n",
    "init_density_mean = np.zeros(grid_shape)\n",
    "init_density_mean[(u0**2 + u1**2 < 0.25)] = 10.\n",
    "init_state_mean = np.concatenate([\n",
    "    init_velocity_mean.flatten(),\n",
    "    init_density_mean.flatten()\n",
    "])\n",
    "init_state_std = np.concatenate([\n",
    "    np.ones(2 * grid_shape[0] * grid_shape[1]) * 5,\n",
    "    np.ones(grid_shape[0] * grid_shape[1]) * 0.1\n",
    "]) \n",
    "state_noise_std = 0\n",
    "obser_noise_std = 1.\n",
    "model = FluidSim2DModel(\n",
    "    rng=rng, grid_shape=grid_shape,\n",
    "    init_state_mean = init_state_mean, init_state_std=init_state_std, \n",
    "    state_noise_std=state_noise_std, obser_noise_std=obser_noise_std)"
   ]
  },
  {
   "cell_type": "markdown",
   "metadata": {},
   "source": [
    "## Generate data from model"
   ]
  },
  {
   "cell_type": "code",
   "execution_count": null,
   "metadata": {},
   "outputs": [],
   "source": [
    "z_reference, x_reference = model.generate(n_steps)"
   ]
  },
  {
   "cell_type": "code",
   "execution_count": null,
   "metadata": {},
   "outputs": [],
   "source": [
    "fig = plt.figure(figsize=(12, 6))\n",
    "ax = fig.add_subplot(1, 1, 1)\n",
    "ax.plot(z_reference[:, :5])\n",
    "ax.set_xlabel('Time index $t$')\n",
    "_ = ax.set_xlim(0, n_steps - 1)"
   ]
  },
  {
   "cell_type": "code",
   "execution_count": null,
   "metadata": {},
   "outputs": [],
   "source": [
    "fig = plt.figure(figsize=(12, 6))\n",
    "ax = fig.add_subplot(1, 1, 1)\n",
    "ax.plot(x_reference[:, :5])\n",
    "ax.set_xlabel('Time index $t$')\n",
    "_ = ax.set_xlim(0, n_steps - 1)"
   ]
  },
  {
   "cell_type": "markdown",
   "metadata": {},
   "source": [
    "## Infer state from observations"
   ]
  },
  {
   "cell_type": "markdown",
   "metadata": {},
   "source": [
    "### Ensemble Kalman filter (perturbed observations)"
   ]
  },
  {
   "cell_type": "code",
   "execution_count": null,
   "metadata": {
    "collapsed": true
   },
   "outputs": [],
   "source": [
    "enkf = da.EnsembleKalmanFilter(\n",
    "    model.init_state_sampler, model.next_state_sampler, \n",
    "    model.observation_sampler, rng\n",
    ")"
   ]
  },
  {
   "cell_type": "code",
   "execution_count": null,
   "metadata": {},
   "outputs": [],
   "source": [
    "%%time\n",
    "results_enkf = enkf.filter(x_reference, 100)"
   ]
  },
  {
   "cell_type": "code",
   "execution_count": null,
   "metadata": {
    "scrolled": false
   },
   "outputs": [],
   "source": [
    "plt.close('all')\n",
    "for i in range(5):\n",
    "    fig = plt.figure(figsize=(12, 4))\n",
    "    ax = fig.add_subplot(1, 1, 1)\n",
    "    _ = ax.plot(results_enkf['z_particles_seq'][:, ::10, i], 'r-', lw=0.25, alpha=0.25, label='EnkF')\n",
    "    _ = ax.plot(z_reference[:, i], 'k--', label='True')"
   ]
  },
  {
   "cell_type": "markdown",
   "metadata": {},
   "source": [
    "### Bootstrap particle filter"
   ]
  },
  {
   "cell_type": "code",
   "execution_count": null,
   "metadata": {
    "collapsed": true
   },
   "outputs": [],
   "source": [
    "bspf = da.BootstrapParticleFilter(\n",
    "    model.init_state_sampler, model.next_state_sampler, \n",
    "    model.log_prob_dens_obs_gvn_state, rng\n",
    ")"
   ]
  },
  {
   "cell_type": "code",
   "execution_count": null,
   "metadata": {},
   "outputs": [],
   "source": [
    "%%time\n",
    "results_bspf = bspf.filter(x_reference, 10)"
   ]
  },
  {
   "cell_type": "code",
   "execution_count": null,
   "metadata": {},
   "outputs": [],
   "source": [
    "plt.close('all')\n",
    "for i in range(5):\n",
    "    fig = plt.figure(figsize=(12, 4))\n",
    "    ax = fig.add_subplot(1, 1, 1)\n",
    "    _ = ax.plot(results_bspf['z_particles_seq'][:, ::10, i], 'r-', lw=0.25, alpha=0.25, label='EnkF')\n",
    "    _ = ax.plot(z_reference[:, i], 'k--', label='True')"
   ]
  },
  {
   "cell_type": "markdown",
   "metadata": {},
   "source": [
    "### Ensemble transform particle filter"
   ]
  },
  {
   "cell_type": "code",
   "execution_count": null,
   "metadata": {
    "collapsed": true
   },
   "outputs": [],
   "source": [
    "etpf = da.EnsembleTransformParticleFilter(\n",
    "    model.init_state_sampler, model.next_state_sampler, \n",
    "    model.log_prob_dens_obs_gvn_state, rng\n",
    ")"
   ]
  },
  {
   "cell_type": "code",
   "execution_count": null,
   "metadata": {},
   "outputs": [],
   "source": [
    "%%time\n",
    "results_etpf = etpf.filter(x_reference, 1000)"
   ]
  },
  {
   "cell_type": "code",
   "execution_count": null,
   "metadata": {},
   "outputs": [],
   "source": [
    "plt.close('all')\n",
    "for i in range(5):\n",
    "    fig = plt.figure(figsize=(12, 4))\n",
    "    ax = fig.add_subplot(1, 1, 1)\n",
    "    _ = ax.plot(results_etpf['z_particles_seq'][:, :10, i], 'r-', lw=0.25, alpha=0.25, label='EnkF')\n",
    "    _ = ax.plot(z_reference[:, i], 'k--', label='True')"
   ]
  },
  {
   "cell_type": "markdown",
   "metadata": {},
   "source": [
    "### Visualise estimated means of filtering distribution"
   ]
  },
  {
   "cell_type": "code",
   "execution_count": null,
   "metadata": {},
   "outputs": [],
   "source": [
    "for i in range(z_reference.shape[1]):\n",
    "    fig = plt.figure(figsize=(12, 4))\n",
    "    ax = fig.add_subplot(1, 1, 1)\n",
    "    ax.plot(z_reference[:, i], 'k', label='True')\n",
    "    ax.plot(results_enkf['z_mean_seq'][:, i], ':', label='EnKF')\n",
    "    ax.plot(results_bspf['z_mean_seq'][:, i], '--', label='BSPF')\n",
    "    ax.plot(results_etpf['z_mean_seq'][:, i], '-.', label='ETPF')\n",
    "    ax.legend(ncol=4)"
   ]
  }
 ],
 "metadata": {
  "kernelspec": {
   "display_name": "Python 3",
   "language": "python",
   "name": "python3"
  },
  "language_info": {
   "codemirror_mode": {
    "name": "ipython",
    "version": 3
   },
   "file_extension": ".py",
   "mimetype": "text/x-python",
   "name": "python",
   "nbconvert_exporter": "python",
   "pygments_lexer": "ipython3",
   "version": "3.6.2"
  }
 },
 "nbformat": 4,
 "nbformat_minor": 1
}
